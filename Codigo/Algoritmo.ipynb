{
 "cells": [
  {
   "cell_type": "markdown",
   "metadata": {},
   "source": [
    "### Install Dependencies"
   ]
  },
  {
   "cell_type": "code",
   "execution_count": 3,
   "metadata": {},
   "outputs": [
    {
     "name": "stdout",
     "output_type": "stream",
     "text": [
      "Collecting psycopg2\n",
      "  Using cached psycopg2-2.8.6.tar.gz (383 kB)\n",
      "Building wheels for collected packages: psycopg2\n",
      "  Building wheel for psycopg2 (setup.py) ... \u001b[?25ldone\n",
      "\u001b[?25h  Created wheel for psycopg2: filename=psycopg2-2.8.6-cp37-cp37m-linux_x86_64.whl size=494996 sha256=45593a34e6aca7e680f86df4d7ce978e0e93d6de2842928c3ff37e7007564e27\n",
      "  Stored in directory: /home/jovyan/.cache/pip/wheels/25/78/75/9c0323f7e1fb42143cbd2439302beb7850a1034abb961cb281\n",
      "Successfully built psycopg2\n",
      "Installing collected packages: psycopg2\n",
      "Successfully installed psycopg2-2.8.6\n"
     ]
    }
   ],
   "source": [
    "!pip install psycopg2"
   ]
  },
  {
   "cell_type": "markdown",
   "metadata": {},
   "source": [
    "### Import Libraries"
   ]
  },
  {
   "cell_type": "code",
   "execution_count": 3,
   "metadata": {},
   "outputs": [
    {
     "data": {
      "text/plain": [
       "'[Connect to database](https://pynative.com/python-postgresql-tutorial/)'"
      ]
     },
     "execution_count": 3,
     "metadata": {},
     "output_type": "execute_result"
    }
   ],
   "source": [
    "import psycopg2\n",
    "import numpy as np\n",
    "import pandas as pd\n",
    "import time\n",
    "import json\n",
    "\n",
    "\n",
    "pd.set_option('display.max_rows', 500)\n",
    "pd.set_option('display.max_columns', 500)\n",
    "pd.set_option('display.width', 1000)\n",
    "\n",
    "\"\"\"[Connect to database](https://pynative.com/python-postgresql-tutorial/)\"\"\""
   ]
  },
  {
   "cell_type": "markdown",
   "metadata": {},
   "source": [
    "### Code"
   ]
  },
  {
   "cell_type": "markdown",
   "metadata": {},
   "source": [
    "#### Connect to Database"
   ]
  },
  {
   "cell_type": "code",
   "execution_count": 4,
   "metadata": {},
   "outputs": [
    {
     "name": "stdout",
     "output_type": "stream",
     "text": [
      "{'user': 'postgres', 'dbname': 'dataproject2', 'host': '35.238.29.211', 'port': '5432', 'tty': '', 'options': '', 'sslmode': 'prefer', 'sslcompression': '0', 'gssencmode': 'prefer', 'krbsrvname': 'postgres', 'target_session_attrs': 'any'} \n",
      "\n",
      "You are connected to -  ('PostgreSQL 10.15 (Debian 10.15-1.pgdg90+1) on x86_64-pc-linux-gnu, compiled by gcc (Debian 6.3.0-18+deb9u1) 6.3.0 20170516, 64-bit',) \n",
      "\n"
     ]
    }
   ],
   "source": [
    "try:\n",
    "    connection = psycopg2.connect(user = \"postgres\",\n",
    "                                  password = \"Welcome01\",\n",
    "                                  host = \"35.238.29.211\",\n",
    "                                  port = \"5432\",\n",
    "                                  database = \"dataproject2\")\n",
    "   \n",
    "    cursor = connection.cursor()\n",
    "    # Print PostgreSQL Connection properties\n",
    "    print ( connection.get_dsn_parameters(),\"\\n\")\n",
    "    \n",
    "    # Print PostgreSQL version\n",
    "    cursor.execute(\"SELECT version();\")\n",
    "    record = cursor.fetchone()\n",
    "    print(\"You are connected to - \", record,\"\\n\")\n",
    "    \n",
    "except (Exception, psycopg2.Error) as error :\n",
    "    print (\"Error while connecting to PostgreSQL\", error)"
   ]
  },
  {
   "cell_type": "markdown",
   "metadata": {},
   "source": [
    "#### Obtain houses"
   ]
  },
  {
   "cell_type": "code",
   "execution_count": 5,
   "metadata": {},
   "outputs": [
    {
     "data": {
      "text/html": [
       "<div>\n",
       "<style scoped>\n",
       "    .dataframe tbody tr th:only-of-type {\n",
       "        vertical-align: middle;\n",
       "    }\n",
       "\n",
       "    .dataframe tbody tr th {\n",
       "        vertical-align: top;\n",
       "    }\n",
       "\n",
       "    .dataframe thead th {\n",
       "        text-align: right;\n",
       "    }\n",
       "</style>\n",
       "<table border=\"1\" class=\"dataframe\">\n",
       "  <thead>\n",
       "    <tr style=\"text-align: right;\">\n",
       "      <th></th>\n",
       "      <th>id</th>\n",
       "      <th>house_id</th>\n",
       "      <th>city_name</th>\n",
       "      <th>rooms</th>\n",
       "      <th>cost</th>\n",
       "      <th>tweet_id</th>\n",
       "      <th>c_counter</th>\n",
       "    </tr>\n",
       "  </thead>\n",
       "  <tbody>\n",
       "    <tr>\n",
       "      <th>0</th>\n",
       "      <td>1</td>\n",
       "      <td>585864</td>\n",
       "      <td>Bilbao</td>\n",
       "      <td>4</td>\n",
       "      <td>434</td>\n",
       "      <td>1352945082241081346</td>\n",
       "      <td>0</td>\n",
       "    </tr>\n",
       "  </tbody>\n",
       "</table>\n",
       "</div>"
      ],
      "text/plain": [
       "   id  house_id city_name  rooms  cost             tweet_id  c_counter\n",
       "0   1    585864    Bilbao      4   434  1352945082241081346          0"
      ]
     },
     "execution_count": 5,
     "metadata": {},
     "output_type": "execute_result"
    }
   ],
   "source": [
    "cursor.execute(\"SELECT * FROM casas;\")\n",
    "record = cursor.fetchall()\n",
    "\n",
    "cursor.execute(\"SELECT COLUMN_NAME FROM INFORMATION_SCHEMA.COLUMNS WHERE TABLE_NAME = N'casas'\")\n",
    "columns_name = cursor.fetchall()\n",
    "\n",
    "\"\"\"Convert array of arrays to single array\"\"\"\n",
    "\n",
    "array_columns_name = np.array(columns_name)\n",
    "array_columns_name = np.concatenate( array_columns_name, axis=0 )\n",
    "\n",
    "#print(array_columns_name)\n",
    "\n",
    "\"\"\"Transform result of query to a pandas dataframe\"\"\"\n",
    "\n",
    "df = pd.DataFrame(record, columns=array_columns_name)\n",
    "\n",
    "df.head()"
   ]
  },
  {
   "cell_type": "markdown",
   "metadata": {},
   "source": [
    "##### Define constants"
   ]
  },
  {
   "cell_type": "code",
   "execution_count": 6,
   "metadata": {},
   "outputs": [],
   "source": [
    "playa = [\"Valencia\", \"Barcelona\", \"Ibiza\"]\n",
    "ciudad = [\"Madrid\", \"Barcelona\", \"Valencia\", \"Sevilla\"]\n",
    "naturaleza = [\"Oviedo\", \"Bilbao\"]\n",
    "fiesta = [\"Ibiza\", \"Madrid\", \"Barcelona\"]"
   ]
  },
  {
   "cell_type": "code",
   "execution_count": 7,
   "metadata": {},
   "outputs": [],
   "source": [
    "scoring = {\"Madrid\": 0, \"Barcelona\": 0, \"Ibiza\": 0, \"Valencia\": 0, \"Sevilla\": 0, \"Oviedo\": 0, \"Bilbao\": 0}"
   ]
  },
  {
   "cell_type": "markdown",
   "metadata": {},
   "source": [
    "#### Match with people"
   ]
  },
  {
   "cell_type": "code",
   "execution_count": 8,
   "metadata": {},
   "outputs": [],
   "source": [
    "#def tuFuncion(text_person):\n",
    "\n",
    "text_person = '{\"created_at\":\"Sat Jan 23 12:43:59 +0000 2021\",\"id\":1352960267303460866,\"full_text\":\"My name is Tara Leon, my salary is 137546€ yearly and I am 25 years old. My family are 3 members. These are my hobbies: Beach(8), City(1), Nature(0), Party(2)  #mdaedem\",\"text\":\"My name is Tara Leon, my salary is 137546€ yearly and I am 25 years old. My family are 3 members. These are my hobb… https://t.co/29g2Rcx1Ev\"}'\n",
    "#TODO: obtain text from Kafka using Spark\n",
    "\n",
    "json_person = json.loads(text_person)"
   ]
  },
  {
   "cell_type": "code",
   "execution_count": 9,
   "metadata": {},
   "outputs": [
    {
     "name": "stdout",
     "output_type": "stream",
     "text": [
      "My name is Tara Leon, my salary is 137546€ yearly and I am 25 years old. My family are 3 members. These are my hobbies: Beach(8), City(1), Nature(0), Party(2)  #mdaedem\n"
     ]
    }
   ],
   "source": [
    "tweet_text = json_person['full_text']\n",
    "print(tweet_text)"
   ]
  },
  {
   "cell_type": "code",
   "execution_count": 10,
   "metadata": {},
   "outputs": [],
   "source": [
    "split_text = tweet_text.split(\" \")\n",
    "salary = split_text[8][:-1]\n",
    "members = split_text[19]\n",
    "beach = split_text[25][-3:-2]\n",
    "city = split_text[26][-3:-2]\n",
    "nature = split_text[27][-3:-2]\n",
    "party = split_text[28][-2:-1]"
   ]
  },
  {
   "cell_type": "code",
   "execution_count": 11,
   "metadata": {},
   "outputs": [
    {
     "name": "stdout",
     "output_type": "stream",
     "text": [
      "8\n"
     ]
    }
   ],
   "source": [
    "print(beach)"
   ]
  },
  {
   "cell_type": "markdown",
   "metadata": {},
   "source": [
    "#### Conditionals"
   ]
  },
  {
   "cell_type": "markdown",
   "metadata": {},
   "source": [
    "Obtener las casas que cumplan el salario"
   ]
  },
  {
   "cell_type": "code",
   "execution_count": 12,
   "metadata": {},
   "outputs": [
    {
     "data": {
      "text/html": [
       "<div>\n",
       "<style scoped>\n",
       "    .dataframe tbody tr th:only-of-type {\n",
       "        vertical-align: middle;\n",
       "    }\n",
       "\n",
       "    .dataframe tbody tr th {\n",
       "        vertical-align: top;\n",
       "    }\n",
       "\n",
       "    .dataframe thead th {\n",
       "        text-align: right;\n",
       "    }\n",
       "</style>\n",
       "<table border=\"1\" class=\"dataframe\">\n",
       "  <thead>\n",
       "    <tr style=\"text-align: right;\">\n",
       "      <th></th>\n",
       "      <th>id</th>\n",
       "      <th>house_id</th>\n",
       "      <th>city_name</th>\n",
       "      <th>rooms</th>\n",
       "      <th>cost</th>\n",
       "      <th>tweet_id</th>\n",
       "      <th>c_counter</th>\n",
       "    </tr>\n",
       "  </thead>\n",
       "  <tbody>\n",
       "    <tr>\n",
       "      <th>0</th>\n",
       "      <td>1</td>\n",
       "      <td>585864</td>\n",
       "      <td>Bilbao</td>\n",
       "      <td>4</td>\n",
       "      <td>434</td>\n",
       "      <td>1352945082241081346</td>\n",
       "      <td>0</td>\n",
       "    </tr>\n",
       "  </tbody>\n",
       "</table>\n",
       "</div>"
      ],
      "text/plain": [
       "   id  house_id city_name  rooms  cost             tweet_id  c_counter\n",
       "0   1    585864    Bilbao      4   434  1352945082241081346          0"
      ]
     },
     "execution_count": 12,
     "metadata": {},
     "output_type": "execute_result"
    }
   ],
   "source": [
    "casas_coste = df[df.cost <= ((int(salary)/12)*0.2)]\n",
    "casas_coste.head()"
   ]
  },
  {
   "cell_type": "markdown",
   "metadata": {},
   "source": [
    "Obtener las casas que cumplan las habitaciones"
   ]
  },
  {
   "cell_type": "code",
   "execution_count": 13,
   "metadata": {},
   "outputs": [
    {
     "name": "stderr",
     "output_type": "stream",
     "text": [
      "/opt/conda/lib/python3.7/site-packages/pandas/core/ops/array_ops.py:253: FutureWarning: elementwise comparison failed; returning scalar instead, but in the future will perform elementwise comparison\n",
      "  res_values = method(rvalues)\n"
     ]
    },
    {
     "data": {
      "text/html": [
       "<div>\n",
       "<style scoped>\n",
       "    .dataframe tbody tr th:only-of-type {\n",
       "        vertical-align: middle;\n",
       "    }\n",
       "\n",
       "    .dataframe tbody tr th {\n",
       "        vertical-align: top;\n",
       "    }\n",
       "\n",
       "    .dataframe thead th {\n",
       "        text-align: right;\n",
       "    }\n",
       "</style>\n",
       "<table border=\"1\" class=\"dataframe\">\n",
       "  <thead>\n",
       "    <tr style=\"text-align: right;\">\n",
       "      <th></th>\n",
       "      <th>id</th>\n",
       "      <th>house_id</th>\n",
       "      <th>city_name</th>\n",
       "      <th>rooms</th>\n",
       "      <th>cost</th>\n",
       "      <th>tweet_id</th>\n",
       "      <th>c_counter</th>\n",
       "    </tr>\n",
       "  </thead>\n",
       "  <tbody>\n",
       "    <tr>\n",
       "      <th>0</th>\n",
       "      <td>1</td>\n",
       "      <td>585864</td>\n",
       "      <td>Bilbao</td>\n",
       "      <td>4</td>\n",
       "      <td>434</td>\n",
       "      <td>1352945082241081346</td>\n",
       "      <td>0</td>\n",
       "    </tr>\n",
       "  </tbody>\n",
       "</table>\n",
       "</div>"
      ],
      "text/plain": [
       "   id  house_id city_name  rooms  cost             tweet_id  c_counter\n",
       "0   1    585864    Bilbao      4   434  1352945082241081346          0"
      ]
     },
     "execution_count": 13,
     "metadata": {},
     "output_type": "execute_result"
    }
   ],
   "source": [
    "casas_hab1 = casas_coste.loc[casas_coste.rooms == members]\n",
    "casas_hab2 = casas_coste.loc[casas_coste.rooms == int(members)+1]\n",
    "\n",
    "casas_hab = pd.concat([casas_hab1,casas_hab2]).drop_duplicates().reset_index(drop=True)\n",
    "casas_hab.head()"
   ]
  },
  {
   "cell_type": "code",
   "execution_count": 15,
   "metadata": {},
   "outputs": [
    {
     "data": {
      "text/html": [
       "<div>\n",
       "<style scoped>\n",
       "    .dataframe tbody tr th:only-of-type {\n",
       "        vertical-align: middle;\n",
       "    }\n",
       "\n",
       "    .dataframe tbody tr th {\n",
       "        vertical-align: top;\n",
       "    }\n",
       "\n",
       "    .dataframe thead th {\n",
       "        text-align: right;\n",
       "    }\n",
       "</style>\n",
       "<table border=\"1\" class=\"dataframe\">\n",
       "  <thead>\n",
       "    <tr style=\"text-align: right;\">\n",
       "      <th></th>\n",
       "      <th>id</th>\n",
       "      <th>house_id</th>\n",
       "      <th>city_name</th>\n",
       "      <th>rooms</th>\n",
       "      <th>cost</th>\n",
       "      <th>tweet_id</th>\n",
       "      <th>c_counter</th>\n",
       "    </tr>\n",
       "  </thead>\n",
       "  <tbody>\n",
       "    <tr>\n",
       "      <th>0</th>\n",
       "      <td>1</td>\n",
       "      <td>585864</td>\n",
       "      <td>Bilbao</td>\n",
       "      <td>4</td>\n",
       "      <td>434</td>\n",
       "      <td>1352945082241081346</td>\n",
       "      <td>0</td>\n",
       "    </tr>\n",
       "  </tbody>\n",
       "</table>\n",
       "</div>"
      ],
      "text/plain": [
       "   id  house_id city_name  rooms  cost             tweet_id  c_counter\n",
       "0   1    585864    Bilbao      4   434  1352945082241081346          0"
      ]
     },
     "execution_count": 15,
     "metadata": {},
     "output_type": "execute_result"
    }
   ],
   "source": [
    "casas_hab = casas_coste.loc[(casas_coste.rooms == members) | ((casas_coste.rooms.astype(int)) == int(members)+1)]\n",
    "casas_hab.head()"
   ]
  },
  {
   "cell_type": "markdown",
   "metadata": {},
   "source": [
    "Sistema de puntuaciones de las ciudades en base a las preferencias del cliente"
   ]
  },
  {
   "cell_type": "code",
   "execution_count": 16,
   "metadata": {},
   "outputs": [
    {
     "name": "stdout",
     "output_type": "stream",
     "text": [
      "Not present 'Madrid' is not in list\n",
      "Not present 'Madrid' is not in list\n",
      "Not present 'Barcelona' is not in list\n",
      "Not present 'Ibiza' is not in list\n",
      "Not present 'Ibiza' is not in list\n",
      "Not present 'Valencia' is not in list\n",
      "Not present 'Valencia' is not in list\n",
      "Not present 'Sevilla' is not in list\n",
      "Not present 'Sevilla' is not in list\n",
      "Not present 'Sevilla' is not in list\n",
      "Not present 'Oviedo' is not in list\n",
      "Not present 'Oviedo' is not in list\n",
      "Not present 'Oviedo' is not in list\n",
      "Not present 'Bilbao' is not in list\n",
      "Not present 'Bilbao' is not in list\n",
      "Not present 'Bilbao' is not in list\n"
     ]
    }
   ],
   "source": [
    "for k in scoring:\n",
    "    try:\n",
    "        playa.index(k)\n",
    "        scoring[k] += int(beach)\n",
    "    except (Exception) as error :\n",
    "        print(\"Not present\", error)\n",
    "        \n",
    "    try:\n",
    "        ciudad.index(k)\n",
    "        scoring[k] += int(city)\n",
    "    except (Exception) as error :\n",
    "        print(\"Not present\", error)\n",
    "        \n",
    "    try:\n",
    "        naturaleza.index(k)\n",
    "        scoring[k] += int(nature)\n",
    "    except (Exception) as error :\n",
    "        print(\"Not present\", error)\n",
    "        \n",
    "    try:\n",
    "        fiesta.index(k)\n",
    "        scoring[k] += int(party)\n",
    "    except (Exception) as error :\n",
    "        print(\"Not present\", error)"
   ]
  },
  {
   "cell_type": "code",
   "execution_count": 17,
   "metadata": {},
   "outputs": [
    {
     "data": {
      "text/plain": [
       "{'Madrid': 3,\n",
       " 'Barcelona': 11,\n",
       " 'Ibiza': 10,\n",
       " 'Valencia': 9,\n",
       " 'Sevilla': 1,\n",
       " 'Oviedo': 0,\n",
       " 'Bilbao': 0}"
      ]
     },
     "execution_count": 17,
     "metadata": {},
     "output_type": "execute_result"
    }
   ],
   "source": [
    "scoring"
   ]
  },
  {
   "cell_type": "markdown",
   "metadata": {},
   "source": [
    "Obtener las casas asignadas a menos de 4 clientes"
   ]
  },
  {
   "cell_type": "code",
   "execution_count": 18,
   "metadata": {},
   "outputs": [
    {
     "data": {
      "text/html": [
       "<div>\n",
       "<style scoped>\n",
       "    .dataframe tbody tr th:only-of-type {\n",
       "        vertical-align: middle;\n",
       "    }\n",
       "\n",
       "    .dataframe tbody tr th {\n",
       "        vertical-align: top;\n",
       "    }\n",
       "\n",
       "    .dataframe thead th {\n",
       "        text-align: right;\n",
       "    }\n",
       "</style>\n",
       "<table border=\"1\" class=\"dataframe\">\n",
       "  <thead>\n",
       "    <tr style=\"text-align: right;\">\n",
       "      <th></th>\n",
       "      <th>id</th>\n",
       "      <th>house_id</th>\n",
       "      <th>city_name</th>\n",
       "      <th>rooms</th>\n",
       "      <th>cost</th>\n",
       "      <th>tweet_id</th>\n",
       "      <th>c_counter</th>\n",
       "    </tr>\n",
       "  </thead>\n",
       "  <tbody>\n",
       "    <tr>\n",
       "      <th>0</th>\n",
       "      <td>1</td>\n",
       "      <td>585864</td>\n",
       "      <td>Bilbao</td>\n",
       "      <td>4</td>\n",
       "      <td>434</td>\n",
       "      <td>1352945082241081346</td>\n",
       "      <td>0</td>\n",
       "    </tr>\n",
       "  </tbody>\n",
       "</table>\n",
       "</div>"
      ],
      "text/plain": [
       "   id  house_id city_name  rooms  cost             tweet_id  c_counter\n",
       "0   1    585864    Bilbao      4   434  1352945082241081346          0"
      ]
     },
     "execution_count": 18,
     "metadata": {},
     "output_type": "execute_result"
    }
   ],
   "source": [
    "casas_libres = casas_hab.loc[casas_hab.c_counter <= 4]\n",
    "casas_libres.head()"
   ]
  },
  {
   "cell_type": "markdown",
   "metadata": {},
   "source": [
    "Obtener las casas con mejor puntuación según el scoring anterior"
   ]
  },
  {
   "cell_type": "code",
   "execution_count": 20,
   "metadata": {},
   "outputs": [
    {
     "data": {
      "text/html": [
       "<div>\n",
       "<style scoped>\n",
       "    .dataframe tbody tr th:only-of-type {\n",
       "        vertical-align: middle;\n",
       "    }\n",
       "\n",
       "    .dataframe tbody tr th {\n",
       "        vertical-align: top;\n",
       "    }\n",
       "\n",
       "    .dataframe thead th {\n",
       "        text-align: right;\n",
       "    }\n",
       "</style>\n",
       "<table border=\"1\" class=\"dataframe\">\n",
       "  <thead>\n",
       "    <tr style=\"text-align: right;\">\n",
       "      <th></th>\n",
       "      <th>id</th>\n",
       "      <th>house_id</th>\n",
       "      <th>city_name</th>\n",
       "      <th>rooms</th>\n",
       "      <th>cost</th>\n",
       "      <th>tweet_id</th>\n",
       "      <th>c_counter</th>\n",
       "      <th>score</th>\n",
       "    </tr>\n",
       "  </thead>\n",
       "  <tbody>\n",
       "    <tr>\n",
       "      <th>0</th>\n",
       "      <td>1</td>\n",
       "      <td>585864</td>\n",
       "      <td>Bilbao</td>\n",
       "      <td>4</td>\n",
       "      <td>434</td>\n",
       "      <td>1352945082241081346</td>\n",
       "      <td>0</td>\n",
       "      <td>0</td>\n",
       "    </tr>\n",
       "  </tbody>\n",
       "</table>\n",
       "</div>"
      ],
      "text/plain": [
       "   id  house_id city_name  rooms  cost             tweet_id  c_counter  score\n",
       "0   1    585864    Bilbao      4   434  1352945082241081346          0      0"
      ]
     },
     "execution_count": 20,
     "metadata": {},
     "output_type": "execute_result"
    }
   ],
   "source": [
    "mejor_casa = casas_libres\n",
    "mejor_casa['score'] = mejor_casa['city_name'].map(scoring)\n",
    "mejor_casa.head()"
   ]
  },
  {
   "cell_type": "code",
   "execution_count": 24,
   "metadata": {},
   "outputs": [
    {
     "data": {
      "text/html": [
       "<div>\n",
       "<style scoped>\n",
       "    .dataframe tbody tr th:only-of-type {\n",
       "        vertical-align: middle;\n",
       "    }\n",
       "\n",
       "    .dataframe tbody tr th {\n",
       "        vertical-align: top;\n",
       "    }\n",
       "\n",
       "    .dataframe thead th {\n",
       "        text-align: right;\n",
       "    }\n",
       "</style>\n",
       "<table border=\"1\" class=\"dataframe\">\n",
       "  <thead>\n",
       "    <tr style=\"text-align: right;\">\n",
       "      <th></th>\n",
       "      <th>id</th>\n",
       "      <th>house_id</th>\n",
       "      <th>city_name</th>\n",
       "      <th>rooms</th>\n",
       "      <th>cost</th>\n",
       "      <th>tweet_id</th>\n",
       "      <th>c_counter</th>\n",
       "      <th>score</th>\n",
       "    </tr>\n",
       "  </thead>\n",
       "  <tbody>\n",
       "    <tr>\n",
       "      <th>0</th>\n",
       "      <td>1</td>\n",
       "      <td>585864</td>\n",
       "      <td>Bilbao</td>\n",
       "      <td>4</td>\n",
       "      <td>434</td>\n",
       "      <td>1352945082241081346</td>\n",
       "      <td>0</td>\n",
       "      <td>0</td>\n",
       "    </tr>\n",
       "  </tbody>\n",
       "</table>\n",
       "</div>"
      ],
      "text/plain": [
       "   id  house_id city_name  rooms  cost             tweet_id  c_counter  score\n",
       "0   1    585864    Bilbao      4   434  1352945082241081346          0      0"
      ]
     },
     "execution_count": 24,
     "metadata": {},
     "output_type": "execute_result"
    }
   ],
   "source": [
    "resultado = mejor_casa[mejor_casa.score == max(mejor_casa.score)]\n",
    "resultado.head()"
   ]
  },
  {
   "cell_type": "code",
   "execution_count": null,
   "metadata": {},
   "outputs": [],
   "source": []
  }
 ],
 "metadata": {
  "kernelspec": {
   "display_name": "Python 3",
   "language": "python",
   "name": "python3"
  },
  "language_info": {
   "codemirror_mode": {
    "name": "ipython",
    "version": 3
   },
   "file_extension": ".py",
   "mimetype": "text/x-python",
   "name": "python",
   "nbconvert_exporter": "python",
   "pygments_lexer": "ipython3",
   "version": "3.7.6"
  }
 },
 "nbformat": 4,
 "nbformat_minor": 4
}
